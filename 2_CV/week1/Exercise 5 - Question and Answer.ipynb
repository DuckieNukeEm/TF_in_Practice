{
 "cells": [
  {
   "cell_type": "code",
   "execution_count": 1,
   "metadata": {
    "colab": {},
    "colab_type": "code",
    "id": "dn-6c02VmqiN"
   },
   "outputs": [
    {
     "name": "stderr",
     "output_type": "stream",
     "text": [
      "/home/beltain/.local/lib/python3.6/site-packages/tensorflow/python/framework/dtypes.py:516: FutureWarning: Passing (type, 1) or '1type' as a synonym of type is deprecated; in a future version of numpy, it will be understood as (type, (1,)) / '(1,)type'.\n",
      "  _np_qint8 = np.dtype([(\"qint8\", np.int8, 1)])\n",
      "/home/beltain/.local/lib/python3.6/site-packages/tensorflow/python/framework/dtypes.py:517: FutureWarning: Passing (type, 1) or '1type' as a synonym of type is deprecated; in a future version of numpy, it will be understood as (type, (1,)) / '(1,)type'.\n",
      "  _np_quint8 = np.dtype([(\"quint8\", np.uint8, 1)])\n",
      "/home/beltain/.local/lib/python3.6/site-packages/tensorflow/python/framework/dtypes.py:518: FutureWarning: Passing (type, 1) or '1type' as a synonym of type is deprecated; in a future version of numpy, it will be understood as (type, (1,)) / '(1,)type'.\n",
      "  _np_qint16 = np.dtype([(\"qint16\", np.int16, 1)])\n",
      "/home/beltain/.local/lib/python3.6/site-packages/tensorflow/python/framework/dtypes.py:519: FutureWarning: Passing (type, 1) or '1type' as a synonym of type is deprecated; in a future version of numpy, it will be understood as (type, (1,)) / '(1,)type'.\n",
      "  _np_quint16 = np.dtype([(\"quint16\", np.uint16, 1)])\n",
      "/home/beltain/.local/lib/python3.6/site-packages/tensorflow/python/framework/dtypes.py:520: FutureWarning: Passing (type, 1) or '1type' as a synonym of type is deprecated; in a future version of numpy, it will be understood as (type, (1,)) / '(1,)type'.\n",
      "  _np_qint32 = np.dtype([(\"qint32\", np.int32, 1)])\n",
      "/home/beltain/.local/lib/python3.6/site-packages/tensorflow/python/framework/dtypes.py:525: FutureWarning: Passing (type, 1) or '1type' as a synonym of type is deprecated; in a future version of numpy, it will be understood as (type, (1,)) / '(1,)type'.\n",
      "  np_resource = np.dtype([(\"resource\", np.ubyte, 1)])\n",
      "/home/beltain/.local/lib/python3.6/site-packages/tensorboard/compat/tensorflow_stub/dtypes.py:541: FutureWarning: Passing (type, 1) or '1type' as a synonym of type is deprecated; in a future version of numpy, it will be understood as (type, (1,)) / '(1,)type'.\n",
      "  _np_qint8 = np.dtype([(\"qint8\", np.int8, 1)])\n",
      "/home/beltain/.local/lib/python3.6/site-packages/tensorboard/compat/tensorflow_stub/dtypes.py:542: FutureWarning: Passing (type, 1) or '1type' as a synonym of type is deprecated; in a future version of numpy, it will be understood as (type, (1,)) / '(1,)type'.\n",
      "  _np_quint8 = np.dtype([(\"quint8\", np.uint8, 1)])\n",
      "/home/beltain/.local/lib/python3.6/site-packages/tensorboard/compat/tensorflow_stub/dtypes.py:543: FutureWarning: Passing (type, 1) or '1type' as a synonym of type is deprecated; in a future version of numpy, it will be understood as (type, (1,)) / '(1,)type'.\n",
      "  _np_qint16 = np.dtype([(\"qint16\", np.int16, 1)])\n",
      "/home/beltain/.local/lib/python3.6/site-packages/tensorboard/compat/tensorflow_stub/dtypes.py:544: FutureWarning: Passing (type, 1) or '1type' as a synonym of type is deprecated; in a future version of numpy, it will be understood as (type, (1,)) / '(1,)type'.\n",
      "  _np_quint16 = np.dtype([(\"quint16\", np.uint16, 1)])\n",
      "/home/beltain/.local/lib/python3.6/site-packages/tensorboard/compat/tensorflow_stub/dtypes.py:545: FutureWarning: Passing (type, 1) or '1type' as a synonym of type is deprecated; in a future version of numpy, it will be understood as (type, (1,)) / '(1,)type'.\n",
      "  _np_qint32 = np.dtype([(\"qint32\", np.int32, 1)])\n",
      "/home/beltain/.local/lib/python3.6/site-packages/tensorboard/compat/tensorflow_stub/dtypes.py:550: FutureWarning: Passing (type, 1) or '1type' as a synonym of type is deprecated; in a future version of numpy, it will be understood as (type, (1,)) / '(1,)type'.\n",
      "  np_resource = np.dtype([(\"resource\", np.ubyte, 1)])\n"
     ]
    }
   ],
   "source": [
    "# In this exercise you will train a CNN on the FULL Cats-v-dogs dataset\n",
    "# This will require you doing a lot of data preprocessing because\n",
    "# the dataset isn't split into training and validation for you\n",
    "# This code block has all the required inputs\n",
    "import os\n",
    "import zipfile\n",
    "import random\n",
    "import tensorflow as tf\n",
    "from tensorflow.keras.optimizers import RMSprop\n",
    "from tensorflow.keras.preprocessing.image import ImageDataGenerator\n",
    "from shutil import copyfile\n",
    "from numpy.random import uniform"
   ]
  },
  {
   "cell_type": "code",
   "execution_count": 3,
   "metadata": {
    "colab": {},
    "colab_type": "code",
    "id": "3sd9dQWa23aj"
   },
   "outputs": [
    {
     "name": "stdout",
     "output_type": "stream",
     "text": [
      "--2019-12-24 13:25:44--  https://download.microsoft.com/download/3/E/1/3E1C3F21-ECDB-4869-8368-6DEBA77B919F/kagglecatsanddogs_3367a.zip\n",
      "Resolving download.microsoft.com (download.microsoft.com)... 23.45.144.230, 2600:1408:8400:3a9::e59, 2600:1408:8400:385::e59\n",
      "Connecting to download.microsoft.com (download.microsoft.com)|23.45.144.230|:443... connected.\n",
      "HTTP request sent, awaiting response... 200 OK\n",
      "Length: 824894548 (787M) [application/octet-stream]\n",
      "Saving to: ‘../../Data/cats-and-dogs.zip’\n",
      "\n",
      "../../Data/cats-and 100%[===================>] 786.68M  9.13MB/s    in 58s     \n",
      "\n",
      "2019-12-24 13:26:42 (13.6 MB/s) - ‘../../Data/cats-and-dogs.zip’ saved [824894548/824894548]\n",
      "\n"
     ]
    }
   ],
   "source": [
    "# This code block downloads the full Cats-v-Dogs dataset and stores it as \n",
    "# cats-and-dogs.zip. It then unzips it to /tmp\n",
    "# which will create a tmp/PetImages directory containing subdirectories\n",
    "# called 'Cat' and 'Dog' (that's how the original researchers structured it)\n",
    "# If the URL doesn't work, \n",
    "# .   visit https://www.microsoft.com/en-us/download/confirmation.aspx?id=54765\n",
    "# And right click on the 'Download Manually' link to get a new URL\n",
    "if True:\n",
    "    !wget --no-check-certificate \\\n",
    "        \"https://download.microsoft.com/download/3/E/1/3E1C3F21-ECDB-4869-8368-6DEBA77B919F/kagglecatsanddogs_3367a.zip\" \\\n",
    "        -O \"../../Data/cats-and-dogs.zip\"\n",
    "\n",
    "    local_zip = '../../Data/cats-and-dogs.zip'\n",
    "else:\n",
    "    local_zip = '../../Data/cats_and_dogs_filtered.zip'\n",
    "    \n",
    "zip_ref = zipfile.ZipFile(local_zip, 'r')\n",
    "zip_ref.extractall('../../Data/tmp')\n",
    "zip_ref.close()\n"
   ]
  },
  {
   "cell_type": "code",
   "execution_count": 4,
   "metadata": {
    "colab": {},
    "colab_type": "code",
    "id": "gi3yD62a6X3S"
   },
   "outputs": [
    {
     "name": "stdout",
     "output_type": "stream",
     "text": [
      "12501\n",
      "12501\n"
     ]
    }
   ],
   "source": [
    "print(len(os.listdir('../../Data/tmp/PetImages/Cat/')))\n",
    "print(len(os.listdir('../../Data/tmp/PetImages/Dog/')))\n",
    "\n",
    "# Expected Output:\n",
    "# 12501\n",
    "# 12501"
   ]
  },
  {
   "cell_type": "code",
   "execution_count": 22,
   "metadata": {
    "colab": {},
    "colab_type": "code",
    "id": "F-QkLjxpmyK2"
   },
   "outputs": [],
   "source": [
    "# Use os.mkdir to create your directories\n",
    "# You will need a directory for cats-v-dogs, and subdirectories for training\n",
    "# and testing. These in turn will need subdirectories for 'cats' and 'dogs'\n",
    "try:\n",
    "    os.mkdir('../../Data/tmp/cats-v-dogs')\n",
    "    os.mkdir('../../Data/tmp/cats-v-dogs/training')\n",
    "    os.mkdir('../../Data/tmp/cats-v-dogs/testing')\n",
    "    os.mkdir('../../Data/tmp/cats-v-dogs/training/cats')\n",
    "    os.mkdir('../../Data/tmp/cats-v-dogs/training/dogs')\n",
    "    os.mkdir('../../Data/tmp/cats-v-dogs/testing/cats')\n",
    "    os.mkdir('../../Data/tmp/cats-v-dogs/testing/dogs')\n",
    "except OSError:\n",
    "    print('no go jo')"
   ]
  },
  {
   "cell_type": "code",
   "execution_count": 23,
   "metadata": {
    "colab": {},
    "colab_type": "code",
    "id": "zvSODo0f9LaU"
   },
   "outputs": [
    {
     "name": "stdout",
     "output_type": "stream",
     "text": [
      "666.jpg is of size 0\n",
      "Number of Test: 1228\n",
      "Number of Training: 11272\n",
      "Ration: 0.09824\n",
      "11702.jpg is of size 0\n",
      "Number of Test: 1219\n",
      "Number of Training: 11281\n",
      "Ration: 0.09752\n"
     ]
    }
   ],
   "source": [
    "# Write a python function called split_data which takes\n",
    "# a SOURCE directory containing the files\n",
    "# a TRAINING directory that a portion of the files will be copied to\n",
    "# a TESTING directory that a portion of the files will be copie to\n",
    "# a SPLIT SIZE to determine the portion\n",
    "# The files should also be randomized, so that the training set is a random\n",
    "# X% of the files, and the test set is the remaining files\n",
    "# SO, for example, if SOURCE is PetImages/Cat, and SPLIT SIZE is .9\n",
    "# Then 90% of the images in PetImages/Cat will be copied to the TRAINING dir\n",
    "# and 10% of the images will be copied to the TESTING dir\n",
    "# Also -- All images should be checked, and if they have a zero file length,\n",
    "# they will not be copied over\n",
    "#\n",
    "# os.listdir(DIRECTORY) gives you a listing of the contents of that directory\n",
    "# os.path.getsize(PATH) gives you the size of the file\n",
    "# copyfile(source, destination) copies a file from source to destination\n",
    "# random.sample(list, len(list)) shuffles a list\n",
    "def split_data(SOURCE, TRAINING, TESTING, SPLIT_SIZE):\n",
    "    TRAINING_C = 0\n",
    "    TESTING_C = 0\n",
    "    for file_idx in  os.listdir(SOURCE):\n",
    "        if os.path.getsize(SOURCE + file_idx) > 1:\n",
    "            if uniform() <= SPLIT_SIZE:\n",
    "                copyfile(SOURCE + file_idx, TRAINING + file_idx)\n",
    "                TRAINING_C += 1\n",
    "            else:\n",
    "                copyfile(SOURCE + file_idx, TESTING + file_idx)\n",
    "                TESTING_C += 1\n",
    "        else:\n",
    "            print(\"{} is of size 0\".format(file_idx))\n",
    "            \n",
    "    print('Number of Test: {}\\nNumber of Training: {}\\nRation: {}'.format(TESTING_C, TRAINING_C, TESTING_C/(TRAINING_C+TESTING_C)))\n",
    "    \n",
    "    \n",
    "\n",
    "if False:\n",
    "    CAT_SOURCE_DIR = \"/tmp/PetImages/Cat/\"\n",
    "    DOG_SOURCE_DIR = \"/tmp/PetImages/Dog/\"\n",
    "    TRAINING_DIR = \"/tmp/cats-v-dogs/training/\"\n",
    "    TESTING_DIR = \"/tmp/cats-v-dogs/testing/\"\n",
    "\n",
    "else:\n",
    "    CAT_SOURCE_DIR = \"../../Data/tmp/PetImages/Cat/\"\n",
    "    DOG_SOURCE_DIR = \"../../Data/tmp/PetImages/Dog/\"\n",
    "    TRAINING_DIR = \"../../Data/tmp/cats-v-dogs/training/\"\n",
    "    TESTING_DIR = \"../../Data/tmp/cats-v-dogs/testing/\"\n",
    " \n",
    "\n",
    "    TRAINING_CATS_DIR = TRAINING_DIR + 'cats/'\n",
    "    TESTING_CATS_DIR =  TESTING_DIR + 'cats/'\n",
    "\n",
    "    TRAINING_DOGS_DIR = TRAINING_DIR + 'dogs/'\n",
    "    TESTING_DOGS_DIR = TESTING_DIR + 'dogs/'\n",
    "\n",
    "split_size = .9\n",
    "split_data(CAT_SOURCE_DIR, TRAINING_CATS_DIR, TESTING_CATS_DIR, split_size)\n",
    "split_data(DOG_SOURCE_DIR, TRAINING_DOGS_DIR, TESTING_DOGS_DIR, split_size)\n",
    "\n",
    "# Expected output\n",
    "# 666.jpg is zero length, so ignoring\n",
    "# 11702.jpg is zero length, so ignoring"
   ]
  },
  {
   "cell_type": "code",
   "execution_count": 24,
   "metadata": {
    "colab": {},
    "colab_type": "code",
    "id": "luthalB76ufC"
   },
   "outputs": [
    {
     "name": "stdout",
     "output_type": "stream",
     "text": [
      "11272\n",
      "11281\n",
      "1228\n",
      "1219\n"
     ]
    }
   ],
   "source": [
    "if False:\n",
    "    print(len(os.listdir('/tmp/cats-v-dogs/training/cats/')))\n",
    "    print(len(os.listdir('/tmp/cats-v-dogs/training/dogs/')))\n",
    "    print(len(os.listdir('/tmp/cats-v-dogs/testing/cats/')))\n",
    "    print(len(os.listdir('/tmp/cats-v-dogs/testing/dogs/')))\n",
    "else:\n",
    "    print(len(os.listdir('../../Data/tmp/cats-v-dogs/training/cats/')))\n",
    "    print(len(os.listdir('../../Data/tmp/cats-v-dogs/training/dogs/')))\n",
    "    print(len(os.listdir('../../Data/tmp/cats-v-dogs/testing/cats/')))\n",
    "    print(len(os.listdir('../../Data/tmp/cats-v-dogs/testing/dogs/')))\n",
    "\n",
    "# Expected output:\n",
    "# 11250\n",
    "# 11250\n",
    "# 1250\n",
    "# 1250"
   ]
  },
  {
   "cell_type": "code",
   "execution_count": 25,
   "metadata": {
    "colab": {},
    "colab_type": "code",
    "id": "-BQrav4anTmj"
   },
   "outputs": [],
   "source": [
    "# DEFINE A KERAS MODEL TO CLASSIFY CATS V DOGS\n",
    "# USE AT LEAST 3 CONVOLUTION LAYERS\n",
    "model = tf.keras.models.Sequential([\n",
    "    tf.keras.layers.Conv2D(16, (3,3), activation = 'relu', input_shape = (150,150,3) ),\n",
    "    tf.keras.layers.MaxPooling2D((2,2)),\n",
    "    tf.keras.layers.Conv2D(32, (3,3), activation = 'relu'),\n",
    "    tf.keras.layers.MaxPooling2D((2,2)),\n",
    "    tf.keras.layers.Conv2D(64, (3,3), activation = 'relu'),\n",
    "    tf.keras.layers.MaxPooling2D((2,2)),\n",
    "    tf.keras.layers.Flatten(),\n",
    "    tf.keras.layers.Dense(512,activation = 'relu' ),\n",
    "    tf.keras.layers.Dense(1, activation = 'sigmoid')\n",
    "])\n",
    "\n",
    "model.compile(optimizer=RMSprop(lr=0.001), loss='binary_crossentropy', metrics=['acc'])"
   ]
  },
  {
   "cell_type": "code",
   "execution_count": 26,
   "metadata": {
    "colab": {},
    "colab_type": "code",
    "id": "mlNjoJ5D61N6"
   },
   "outputs": [
    {
     "name": "stdout",
     "output_type": "stream",
     "text": [
      "Found 22551 images belonging to 2 classes.\n",
      "Found 2447 images belonging to 2 classes.\n"
     ]
    }
   ],
   "source": [
    "#RAINING_DIR = '../../Data/'\n",
    "train_datagen = ImageDataGenerator(rescale = 1/255.)\n",
    "\n",
    "train_generator = train_datagen.flow_from_directory(\n",
    "                        TRAINING_DIR,\n",
    "                        batch_size = 100,\n",
    "                        class_mode= 'binary',\n",
    "                        target_size = (150,150))\n",
    "\n",
    "#VALIDATION_DIR = #YOUR CODE HERE\n",
    "test_datagen = ImageDataGenerator(rescale = 1/255.)\n",
    "test_generator = test_datagen.flow_from_directory(\n",
    "                        TESTING_DIR,\n",
    "                        batch_size = 100,\n",
    "                        class_mode = 'binary',\n",
    "                        target_size = (150,150)\n",
    ")\n",
    "\n",
    "\n",
    "\n",
    "# Expected Output:\n",
    "# Found 22498 images belonging to 2 classes.\n",
    "# Found 2500 images belonging to 2 classes."
   ]
  },
  {
   "cell_type": "code",
   "execution_count": 27,
   "metadata": {
    "colab": {},
    "colab_type": "code",
    "id": "KyS4n53w7DxC"
   },
   "outputs": [
    {
     "name": "stdout",
     "output_type": "stream",
     "text": [
      "Epoch 1/15\n",
      "225/226 [============================>.] - ETA: 0s - loss: 0.6369 - acc: 0.6583"
     ]
    },
    {
     "name": "stderr",
     "output_type": "stream",
     "text": [
      "/usr/local/lib/python3.6/dist-packages/PIL/TiffImagePlugin.py:784: UserWarning: Possibly corrupt EXIF data.  Expecting to read 32 bytes but only got 0. Skipping tag 270\n",
      "  \" Skipping tag %s\" % (size, len(data), tag)\n",
      "/usr/local/lib/python3.6/dist-packages/PIL/TiffImagePlugin.py:784: UserWarning: Possibly corrupt EXIF data.  Expecting to read 5 bytes but only got 0. Skipping tag 271\n",
      "  \" Skipping tag %s\" % (size, len(data), tag)\n",
      "/usr/local/lib/python3.6/dist-packages/PIL/TiffImagePlugin.py:784: UserWarning: Possibly corrupt EXIF data.  Expecting to read 8 bytes but only got 0. Skipping tag 272\n",
      "  \" Skipping tag %s\" % (size, len(data), tag)\n",
      "/usr/local/lib/python3.6/dist-packages/PIL/TiffImagePlugin.py:784: UserWarning: Possibly corrupt EXIF data.  Expecting to read 8 bytes but only got 0. Skipping tag 282\n",
      "  \" Skipping tag %s\" % (size, len(data), tag)\n",
      "/usr/local/lib/python3.6/dist-packages/PIL/TiffImagePlugin.py:784: UserWarning: Possibly corrupt EXIF data.  Expecting to read 8 bytes but only got 0. Skipping tag 283\n",
      "  \" Skipping tag %s\" % (size, len(data), tag)\n",
      "/usr/local/lib/python3.6/dist-packages/PIL/TiffImagePlugin.py:784: UserWarning: Possibly corrupt EXIF data.  Expecting to read 20 bytes but only got 0. Skipping tag 306\n",
      "  \" Skipping tag %s\" % (size, len(data), tag)\n",
      "/usr/local/lib/python3.6/dist-packages/PIL/TiffImagePlugin.py:784: UserWarning: Possibly corrupt EXIF data.  Expecting to read 48 bytes but only got 0. Skipping tag 532\n",
      "  \" Skipping tag %s\" % (size, len(data), tag)\n",
      "/usr/local/lib/python3.6/dist-packages/PIL/TiffImagePlugin.py:802: UserWarning: Corrupt EXIF data.  Expecting to read 2 bytes but only got 0. \n",
      "  warnings.warn(str(msg))\n"
     ]
    },
    {
     "name": "stdout",
     "output_type": "stream",
     "text": [
      "226/226 [==============================] - 36s 161ms/step - loss: 0.6362 - acc: 0.6587 - val_loss: 0.4796 - val_acc: 0.7740\n",
      "Epoch 2/15\n",
      "226/226 [==============================] - 34s 153ms/step - loss: 0.4862 - acc: 0.7668 - val_loss: 0.5713 - val_acc: 0.7323\n",
      "Epoch 3/15\n",
      "226/226 [==============================] - 35s 153ms/step - loss: 0.4152 - acc: 0.8087 - val_loss: 0.4497 - val_acc: 0.7785\n",
      "Epoch 4/15\n",
      "226/226 [==============================] - 34s 152ms/step - loss: 0.3537 - acc: 0.8413 - val_loss: 0.4061 - val_acc: 0.8190\n",
      "Epoch 5/15\n",
      "226/226 [==============================] - 35s 153ms/step - loss: 0.2829 - acc: 0.8778 - val_loss: 0.4249 - val_acc: 0.8169\n",
      "Epoch 6/15\n",
      "226/226 [==============================] - 35s 153ms/step - loss: 0.2168 - acc: 0.9104 - val_loss: 0.4658 - val_acc: 0.8186\n",
      "Epoch 7/15\n",
      "226/226 [==============================] - 34s 153ms/step - loss: 0.1485 - acc: 0.9417 - val_loss: 0.5293 - val_acc: 0.8186\n",
      "Epoch 8/15\n",
      "226/226 [==============================] - 35s 154ms/step - loss: 0.1047 - acc: 0.9632 - val_loss: 0.5517 - val_acc: 0.7895\n",
      "Epoch 9/15\n",
      "226/226 [==============================] - 35s 153ms/step - loss: 0.0690 - acc: 0.9776 - val_loss: 0.6873 - val_acc: 0.8206\n",
      "Epoch 10/15\n",
      "226/226 [==============================] - 34s 152ms/step - loss: 0.0494 - acc: 0.9836 - val_loss: 0.8347 - val_acc: 0.8304\n",
      "Epoch 11/15\n",
      "226/226 [==============================] - 34s 152ms/step - loss: 0.0377 - acc: 0.9885 - val_loss: 0.9112 - val_acc: 0.8251\n",
      "Epoch 12/15\n",
      "226/226 [==============================] - 35s 153ms/step - loss: 0.0556 - acc: 0.9865 - val_loss: 0.7949 - val_acc: 0.8210\n",
      "Epoch 13/15\n",
      "226/226 [==============================] - 34s 152ms/step - loss: 0.0473 - acc: 0.9886 - val_loss: 0.8962 - val_acc: 0.8161\n",
      "Epoch 14/15\n",
      "226/226 [==============================] - 34s 153ms/step - loss: 0.0466 - acc: 0.9891 - val_loss: 1.0612 - val_acc: 0.8136\n",
      "Epoch 15/15\n",
      "226/226 [==============================] - 34s 153ms/step - loss: 0.0386 - acc: 0.9892 - val_loss: 1.1382 - val_acc: 0.8251\n"
     ]
    }
   ],
   "source": [
    "history = model.fit_generator(train_generator,\n",
    "                              epochs=15,\n",
    "                              verbose=1,\n",
    "                              validation_data=test_generator)\n",
    "\n",
    "# The expectation here is that the model will train, and that accuracy will be > 95% on both training and validation\n",
    "# i.e. acc:A1 and val_acc:A2 will be visible, and both A1 and A2 will be > .9"
   ]
  },
  {
   "cell_type": "code",
   "execution_count": null,
   "metadata": {
    "colab": {},
    "colab_type": "code",
    "id": "MWZrJN4-65RC"
   },
   "outputs": [],
   "source": [
    "# PLOT LOSS AND ACCURACY\n",
    "%matplotlib inline\n",
    "\n",
    "import matplotlib.image  as mpimg\n",
    "import matplotlib.pyplot as plt\n",
    "\n",
    "#-----------------------------------------------------------\n",
    "# Retrieve a list of list results on training and test data\n",
    "# sets for each training epoch\n",
    "#-----------------------------------------------------------\n",
    "acc=history.history['acc']\n",
    "val_acc=history.history['val_acc']\n",
    "loss=history.history['loss']\n",
    "val_loss=history.history['val_loss']\n",
    "\n",
    "epochs=range(len(acc)) # Get number of epochs\n",
    "\n",
    "#------------------------------------------------\n",
    "# Plot training and validation accuracy per epoch\n",
    "#------------------------------------------------\n",
    "plt.plot(epochs, acc, 'r', \"Training Accuracy\")\n",
    "plt.plot(epochs, val_acc, 'b', \"Validation Accuracy\")\n",
    "plt.title('Training and validation accuracy')\n",
    "plt.figure()\n",
    "\n",
    "#------------------------------------------------\n",
    "# Plot training and validation loss per epoch\n",
    "#------------------------------------------------\n",
    "plt.plot(epochs, loss, 'r', \"Training Loss\")\n",
    "plt.plot(epochs, val_loss, 'b', \"Validation Loss\")\n",
    "\n",
    "\n",
    "plt.title('Training and validation loss')\n",
    "\n",
    "# Desired output. Charts with training and validation metrics. No crash :)"
   ]
  },
  {
   "cell_type": "code",
   "execution_count": null,
   "metadata": {
    "colab": {},
    "colab_type": "code",
    "id": "LqL6FYUrtXpf"
   },
   "outputs": [],
   "source": [
    "# Here's a codeblock just for fun. You should be able to upload an image here \n",
    "# and have it classified without crashing\n",
    "\n",
    "import numpy as np\n",
    "from google.colab import files\n",
    "from keras.preprocessing import image\n",
    "\n",
    "uploaded = files.upload()\n",
    "\n",
    "for fn in uploaded.keys():\n",
    " \n",
    "  # predicting images\n",
    "  path = '/content/' + fn\n",
    "  img = image.load_img(path, target_size=(# YOUR CODE HERE))\n",
    "  x = image.img_to_array(img)\n",
    "  x = np.expand_dims(x, axis=0)\n",
    "\n",
    "  images = np.vstack([x])\n",
    "  classes = model.predict(images, batch_size=10)\n",
    "  print(classes[0])\n",
    "  if classes[0]>0.5:\n",
    "    print(fn + \" is a dog\")\n",
    "  else:\n",
    "    print(fn + \" is a cat\")"
   ]
  }
 ],
 "metadata": {
  "accelerator": "GPU",
  "colab": {
   "collapsed_sections": [],
   "name": "Exercise 5 - Question.ipynb",
   "provenance": [
    {
     "file_id": "1dGHF5_gCd_iW3blaWG-kNce153CHvM-I",
     "timestamp": 1550529081161
    }
   ],
   "version": "0.3.2"
  },
  "kernelspec": {
   "display_name": "Python 3",
   "language": "python",
   "name": "python3"
  },
  "language_info": {
   "codemirror_mode": {
    "name": "ipython",
    "version": 3
   },
   "file_extension": ".py",
   "mimetype": "text/x-python",
   "name": "python",
   "nbconvert_exporter": "python",
   "pygments_lexer": "ipython3",
   "version": "3.6.8"
  }
 },
 "nbformat": 4,
 "nbformat_minor": 4
}
