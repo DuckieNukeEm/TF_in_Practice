{
 "cells": [
  {
   "cell_type": "code",
   "execution_count": 9,
   "metadata": {
    "colab": {},
    "colab_type": "code",
    "id": "wYtuKeK0dImp"
   },
   "outputs": [],
   "source": [
    "import csv\n",
    "import numpy as np\n",
    "import tensorflow as tf\n",
    "from tensorflow.keras.preprocessing.image import ImageDataGenerator"
   ]
  },
  {
   "cell_type": "markdown",
   "metadata": {
    "colab_type": "text",
    "id": "EmMyh9_mkDHF"
   },
   "source": [
    "The data for this exercise is available at: https://www.kaggle.com/datamunge/sign-language-mnist/home\n",
    "\n",
    "Sign up and download to find 2 CSV files: sign_mnist_test.csv and sign_mnist_train.csv -- You will upload both of them using this button before you can continue.\n"
   ]
  },
  {
   "cell_type": "code",
   "execution_count": 32,
   "metadata": {
    "colab": {},
    "colab_type": "code",
    "id": "4kxw-_rmcnVu"
   },
   "outputs": [
    {
     "name": "stdout",
     "output_type": "stream",
     "text": [
      "(27455, 28, 28)\n",
      "(27455,)\n",
      "(7172, 28, 28)\n",
      "(7172,)\n"
     ]
    }
   ],
   "source": [
    "def get_data(filename):\n",
    "  # You will need to write code that will read the file passed\n",
    "  # into this function. The first line contains the column headers\n",
    "  # so you should ignore it\n",
    "  # Each successive line contians 785 comma separated values between 0 and 255\n",
    "  # The first value is the label\n",
    "  # The rest are the pixel values for that picture\n",
    "  # The function will return 2 np.array types. One with all the labels\n",
    "  # One with all the images\n",
    "  #\n",
    "  # Tips: \n",
    "  # If you read a full line (as 'row') then row[0] has the label\n",
    "  # and row[1:785] has the 784 pixel values\n",
    "  # Take a look at np.array_split to turn the 784 pixels into 28x28\n",
    "  # You are reading in strings, but need the values to be floats\n",
    "  # Check out np.array().astype for a conversion\n",
    "    with open(filename) as training_file:\n",
    "        csv_reader = csv.reader(training_file, delimiter=',')\n",
    "        first_line = True\n",
    "        temp_images = []\n",
    "        temp_labels = []\n",
    "        for row in csv_reader:\n",
    "            if first_line:\n",
    "                # print(\"Ignoring first line\")\n",
    "                first_line = False\n",
    "            else:\n",
    "                temp_labels.append(row[0])\n",
    "                image_data = row[1:785]\n",
    "                image_data_as_array = np.array_split(image_data, 28)\n",
    "                temp_images.append(image_data_as_array)\n",
    "        images = np.array(temp_images).astype('float')\n",
    "        labels = np.array(temp_labels).astype('float')\n",
    "    return images, labels\n",
    "\n",
    "\n",
    "training_images, training_labels = get_data('../../Data/tmp/sign_mnist_train.csv')\n",
    "testing_images, testing_labels = get_data('../../Data/tmp/sign_mnist_test.csv')\n",
    "\n",
    "# Keep these\n",
    "print(training_images.shape)\n",
    "print(training_labels.shape)\n",
    "print(testing_images.shape)\n",
    "print(testing_labels.shape)\n",
    "\n",
    "# Their output should be:\n",
    "# (27455, 28, 28)\n",
    "# (27455,)\n",
    "# (7172, 28, 28)\n",
    "# (7172,)"
   ]
  },
  {
   "cell_type": "code",
   "execution_count": 33,
   "metadata": {
    "colab": {},
    "colab_type": "code",
    "id": "awoqRpyZdQkD"
   },
   "outputs": [
    {
     "name": "stdout",
     "output_type": "stream",
     "text": [
      "(27455, 28, 28, 1)\n",
      "(7172, 28, 28, 1)\n"
     ]
    }
   ],
   "source": [
    "# In this section you will have to add another dimension to the data\n",
    "# So, for example, if your array is (10000, 28, 28)\n",
    "# You will need to make it (10000, 28, 28, 1)\n",
    "# Hint: np.expand_dims\n",
    "\n",
    "training_images = np.expand_dims(training_images, axis = 3)\n",
    "testing_images = np.expand_dims(testing_images, axis = 3)\n",
    "\n",
    "# Create an ImageDataGenerator and do Image Augmentation\n",
    "train_datagen = ImageDataGenerator(\n",
    "    rescale = 1.0/255,\n",
    "    rotation_range = 40.0,\n",
    "    shear_range = 0.2,\n",
    "    zoom_range = 0.4,\n",
    "    fill_mode = 'nearest',\n",
    "    horizontal_flip = True\n",
    "    \n",
    "    # Your Code Here\n",
    "    )\n",
    "\n",
    "validation_datagen = ImageDataGenerator(\n",
    "    rescale = 1.0/255\n",
    ")\n",
    "    \n",
    "# Keep These\n",
    "print(training_images.shape)\n",
    "print(testing_images.shape)\n",
    "    \n",
    "# Their output should be:\n",
    "# (27455, 28, 28, 1)\n",
    "# (7172, 28, 28, 1)"
   ]
  },
  {
   "cell_type": "code",
   "execution_count": 34,
   "metadata": {
    "colab": {},
    "colab_type": "code",
    "id": "Rmb7S32cgRqS"
   },
   "outputs": [
    {
     "name": "stdout",
     "output_type": "stream",
     "text": [
      "Epoch 1/15\n",
      "858/857 [==============================] - 5s 6ms/step - loss: 2.3072 - acc: 0.2836 - val_loss: 1.3748 - val_acc: 0.5513\n",
      "Epoch 2/15\n",
      "858/857 [==============================] - 4s 5ms/step - loss: 1.4472 - acc: 0.5283 - val_loss: 1.0365 - val_acc: 0.6209\n",
      "Epoch 3/15\n",
      "858/857 [==============================] - 4s 5ms/step - loss: 1.1013 - acc: 0.6388 - val_loss: 0.7798 - val_acc: 0.7310\n",
      "Epoch 4/15\n",
      "858/857 [==============================] - 4s 5ms/step - loss: 0.8894 - acc: 0.7110 - val_loss: 0.6608 - val_acc: 0.7786\n",
      "Epoch 5/15\n",
      "858/857 [==============================] - 4s 5ms/step - loss: 0.7415 - acc: 0.7577 - val_loss: 0.5748 - val_acc: 0.8080\n",
      "Epoch 6/15\n",
      "858/857 [==============================] - 4s 5ms/step - loss: 0.6359 - acc: 0.7951 - val_loss: 0.4482 - val_acc: 0.8593\n",
      "Epoch 7/15\n",
      "858/857 [==============================] - 4s 5ms/step - loss: 0.5423 - acc: 0.8261 - val_loss: 0.3900 - val_acc: 0.8805\n",
      "Epoch 8/15\n",
      "858/857 [==============================] - 4s 5ms/step - loss: 0.4862 - acc: 0.8463 - val_loss: 0.3872 - val_acc: 0.8854\n",
      "Epoch 9/15\n",
      "858/857 [==============================] - 4s 5ms/step - loss: 0.4276 - acc: 0.8652 - val_loss: 0.3683 - val_acc: 0.9017\n",
      "Epoch 10/15\n",
      "858/857 [==============================] - 4s 5ms/step - loss: 0.3726 - acc: 0.8820 - val_loss: 0.3617 - val_acc: 0.8903A: 3 - ETA: \n",
      "Epoch 11/15\n",
      "858/857 [==============================] - 4s 5ms/step - loss: 0.3441 - acc: 0.8940 - val_loss: 0.3057 - val_acc: 0.9124\n",
      "Epoch 12/15\n",
      "858/857 [==============================] - 5s 5ms/step - loss: 0.3146 - acc: 0.9040 - val_loss: 0.2708 - val_acc: 0.9285\n",
      "Epoch 13/15\n",
      "858/857 [==============================] - 4s 5ms/step - loss: 0.2882 - acc: 0.9113 - val_loss: 0.2444 - val_acc: 0.9331\n",
      "Epoch 14/15\n",
      "858/857 [==============================] - 4s 5ms/step - loss: 0.2665 - acc: 0.9174 - val_loss: 0.3170 - val_acc: 0.9039\n",
      "Epoch 15/15\n",
      "858/857 [==============================] - 4s 5ms/step - loss: 0.2399 - acc: 0.9266 - val_loss: 0.2887 - val_acc: 0.9129\n",
      "7172/7172 [==============================] - 1s 121us/sample - loss: 1.7539 - acc: 0.5919\n"
     ]
    },
    {
     "data": {
      "text/plain": [
       "[6.92426086682151, 0.56609035]"
      ]
     },
     "execution_count": 34,
     "metadata": {},
     "output_type": "execute_result"
    }
   ],
   "source": [
    "# Define the model\n",
    "# Use no more than 2 Conv2D and 2 MaxPooling2D\n",
    "model = tf.keras.models.Sequential([\n",
    "    tf.keras.layers.Conv2D(32, (3,3), activation = 'relu', input_shape = (28,28,1)),\n",
    "    tf.keras.layers.AveragePooling2D((2,2)),\n",
    "    tf.keras.layers.Conv2D(64, (3,3), activation = 'relu'),\n",
    "    tf.keras.layers.AveragePooling2D((2,2)),\n",
    "    tf.keras.layers.Flatten(),\n",
    "    tf.keras.layers.Dense(128, activation = 'tanh'),\n",
    "    tf.keras.layers.Dense(26, activation = 'softmax')]\n",
    "    )\n",
    "\n",
    "# Compile Model. \n",
    "model.compile(optimizer = tf.train.AdamOptimizer(),\n",
    "              loss = 'sparse_categorical_crossentropy',\n",
    "              metrics=['acc'])\n",
    "# Train the Model\n",
    "history = model.fit_generator(train_datagen.flow(training_images, training_labels, batch_size=32),\n",
    "                              steps_per_epoch=len(training_images) / 32,\n",
    "                              epochs=15,\n",
    "                              validation_data=validation_datagen.flow(testing_images, testing_labels, batch_size=32),\n",
    "                              validation_steps=len(testing_images) / 32)\n",
    "\n",
    "\n",
    "\n",
    "model.evaluate(testing_images, testing_labels)\n",
    "    \n",
    "# The output from model.evaluate should be close to:\n",
    "[6.92426086682151, 0.56609035]\n"
   ]
  },
  {
   "cell_type": "code",
   "execution_count": 37,
   "metadata": {
    "colab": {},
    "colab_type": "code",
    "id": "_Q3Zpr46dsij"
   },
   "outputs": [
    {
     "data": {
      "image/png": "[encoded data removed]",
      "text/plain": [
       "<Figure size 432x288 with 1 Axes>"
      ]
     },
     "metadata": {
      "needs_background": "light"
     },
     "output_type": "display_data"
    },
    {
     "data": {
      "image/png": "[encoded data removed]",
      "text/plain": [
       "<Figure size 432x288 with 1 Axes>"
      ]
     },
     "metadata": {
      "needs_background": "light"
     },
     "output_type": "display_data"
    }
   ],
   "source": [
    "# Plot the chart for accuracy and loss on both training and validation\n",
    "\n",
    "import matplotlib.pyplot as plt\n",
    "acc = history.history['acc']\n",
    "val_acc = history.history['val_acc']\n",
    "loss = history.history['loss']\n",
    "val_loss = history.history['val_loss']\n",
    "\n",
    "epochs = range(len(acc))\n",
    "\n",
    "plt.plot(epochs, acc, 'r', label='Training accuracy')\n",
    "plt.plot(epochs, val_acc, 'b', label='Validation accuracy')\n",
    "plt.title('Training and validation accuracy')\n",
    "plt.legend()\n",
    "plt.figure()\n",
    "\n",
    "plt.plot(epochs, loss, 'r', label='Training Loss')\n",
    "plt.plot(epochs, val_loss, 'b', label='Validation Loss')\n",
    "plt.title('Training and validation loss')\n",
    "plt.legend()\n",
    "\n",
    "plt.show()"
   ]
  }
 ],
 "metadata": {
  "colab": {
   "name": "Exercise 8 - Question.ipynb",
   "provenance": [
    {
     "file_id": "1KMi9wAhMhxvuc-bfptkCUlnVRGrh5ySj",
     "timestamp": 1550682934823
    }
   ],
   "version": "0.3.2"
  },
  "kernelspec": {
   "display_name": "Python 3",
   "language": "python",
   "name": "python3"
  },
  "language_info": {
   "codemirror_mode": {
    "name": "ipython",
    "version": 3
   },
   "file_extension": ".py",
   "mimetype": "text/x-python",
   "name": "python",
   "nbconvert_exporter": "python",
   "pygments_lexer": "ipython3",
   "version": "3.6.8"
  }
 },
 "nbformat": 4,
 "nbformat_minor": 4
}
